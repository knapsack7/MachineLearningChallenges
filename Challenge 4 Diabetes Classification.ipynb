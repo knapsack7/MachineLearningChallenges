{
 "cells": [
  {
   "cell_type": "code",
   "execution_count": 1,
   "metadata": {},
   "outputs": [],
   "source": [
    "import numpy as np\n",
    "import matplotlib.pyplot as plt\n",
    "import pandas as pd"
   ]
  },
  {
   "cell_type": "code",
   "execution_count": 6,
   "metadata": {},
   "outputs": [
    {
     "name": "stdout",
     "output_type": "stream",
     "text": [
      "(576, 8) (576, 1)\n"
     ]
    }
   ],
   "source": [
    "dfx=pd.read_csv(\"Diabetes_XTrain.csv\")\n",
    "dfy=pd.read_csv(\"Diabetes_YTrain.csv\")\n",
    "X_train=dfx.values\n",
    "Y_train=dfy.values\n",
    "print(X_train.shape,Y_train.shape)"
   ]
  },
  {
   "cell_type": "code",
   "execution_count": 35,
   "metadata": {},
   "outputs": [],
   "source": [
    "#Distance calculation Function\n",
    "def distance(x1,x2):\n",
    "    return np.sqrt(np.sum((x1-x2)**2))"
   ]
  },
  {
   "cell_type": "code",
   "execution_count": 36,
   "metadata": {},
   "outputs": [
    {
     "data": {
      "text/plain": [
       "1.4142135623730951"
      ]
     },
     "execution_count": 36,
     "metadata": {},
     "output_type": "execute_result"
    }
   ],
   "source": [
    "distance(np.array([1,2]),np.array([2,1]))"
   ]
  },
  {
   "cell_type": "code",
   "execution_count": 60,
   "metadata": {},
   "outputs": [],
   "source": [
    "#Main Algorithm\n",
    "def KNN(X,Y,query_x,k=15):\n",
    "    dists=[]\n",
    "    m=X.shape[0]\n",
    "    for i in range(m):\n",
    "        d=distance(query_x,X[i])\n",
    "        #Now append tuples of(distance ,label) distance first bz sorting will be done on first value\n",
    "        dists.append((d,Y[i]))\n",
    "    #sort the dists\n",
    "    dists=sorted(dists)\n",
    "    # U want to pick first Nearest K points\n",
    "    dists=dists[:k]\n",
    "    # Convert to numpy array so that we can perform some more operations \n",
    "    dists=np.array(dists)\n",
    "    #Counting Frequency for each Unique Labels\n",
    "    labels=np.unique(dists[:,1],return_counts=True)\n",
    "    #print(labels)# label 0 is repeated 3 times and label 1 is repeated 2 times\n",
    "    prediction=labels[1].argmax()\n",
    "    prediction=labels[0][prediction]\n",
    "    return prediction"
   ]
  },
  {
   "cell_type": "code",
   "execution_count": 61,
   "metadata": {},
   "outputs": [
    {
     "name": "stdout",
     "output_type": "stream",
     "text": [
      "(192, 1)\n",
      "[0 0 0 0 0 0 1 0 0 0 1 0 1 0 0 0 0 1 1 1 0 0 1 1 0 0 0 0 0 0 0 0 0 0 1 0 0\n",
      " 1 1 0 1 0 0 0 1 0 0 1 0 1 0 1 0 0 1 0 1 0 0 1 0 0 0 0 1 0 0 0 0 0 0 0 0 0\n",
      " 0 0 0 0 0 0 0 0 0 0 0 0 1 0 0 0 1 1 1 0 1 0 0 0 0 0 1 1 0 0 0 1 0 1 0 0 1\n",
      " 1 1 0 0 1 0 1 0 0 0 0 0 0 1 1 1 0 1 0 1 1 0 0 0 0 1 1 1 0 0 1 0 1 1 0 0 1\n",
      " 0 1 0 0 1 0 0 1 1 1 0 1 0 0 0 0 0 0 0 0 0 0 0 0 0 1 0 0 0 0 0 1 0 0 1 0 1\n",
      " 0 0 0 0 1 0 0]\n"
     ]
    }
   ],
   "source": [
    "Y_test=[]\n",
    "X_test=pd.read_csv(\"Diabetes_Xtest.csv\")\n",
    "X_test=X_test.values\n",
    "for i in range(X_test.shape[0]):\n",
    "    pred=KNN(X_train,Y_train,X_test[i])\n",
    "    Y_test.append(pred)\n",
    "Y_test=np.array(Y_test)\n",
    "print(Y_test.shape)\n",
    "print(Y_test.reshape(-1))"
   ]
  },
  {
   "cell_type": "code",
   "execution_count": 62,
   "metadata": {},
   "outputs": [],
   "source": [
    "df=pd.DataFrame(data=Y_test,columns=['Outcome'])\n",
    "df.to_csv(\"DiabetesOutput.csv\",index=False)"
   ]
  },
  {
   "cell_type": "code",
   "execution_count": 63,
   "metadata": {},
   "outputs": [
    {
     "name": "stdout",
     "output_type": "stream",
     "text": [
      "(192, 1)\n",
      "Index(['Outcome'], dtype='object')\n"
     ]
    }
   ],
   "source": [
    "out=pd.read_csv(\"DiabetesOutput.csv\")\n",
    "print(out.shape)\n",
    "print(out.columns)"
   ]
  }
 ],
 "metadata": {
  "kernelspec": {
   "display_name": "Python 3",
   "language": "python",
   "name": "python3"
  },
  "language_info": {
   "codemirror_mode": {
    "name": "ipython",
    "version": 3
   },
   "file_extension": ".py",
   "mimetype": "text/x-python",
   "name": "python",
   "nbconvert_exporter": "python",
   "pygments_lexer": "ipython3",
   "version": "3.7.3"
  }
 },
 "nbformat": 4,
 "nbformat_minor": 2
}
