{
 "cells": [
  {
   "cell_type": "code",
   "execution_count": 1,
   "metadata": {},
   "outputs": [],
   "source": [
    "import pandas as pd"
   ]
  },
  {
   "cell_type": "code",
   "execution_count": 2,
   "metadata": {},
   "outputs": [
    {
     "name": "stderr",
     "output_type": "stream",
     "text": [
      "Using TensorFlow backend.\n"
     ]
    }
   ],
   "source": [
    "from keras.preprocessing import image"
   ]
  },
  {
   "cell_type": "code",
   "execution_count": 3,
   "metadata": {},
   "outputs": [],
   "source": [
    "from pathlib import Path"
   ]
  },
  {
   "cell_type": "code",
   "execution_count": 4,
   "metadata": {},
   "outputs": [],
   "source": [
    "import numpy as np"
   ]
  },
  {
   "cell_type": "code",
   "execution_count": 5,
   "metadata": {},
   "outputs": [
    {
     "name": "stdout",
     "output_type": "stream",
     "text": [
      "<class 'pathlib.PosixPath'>\n"
     ]
    }
   ],
   "source": [
    "p=Path(\"/home/manish/Images_train\")\n",
    "print(type(p))"
   ]
  },
  {
   "cell_type": "code",
   "execution_count": 6,
   "metadata": {},
   "outputs": [],
   "source": [
    "#for files in p.glob(\"*.jpg\"):\n",
    "    #print(files)"
   ]
  },
  {
   "cell_type": "code",
   "execution_count": 7,
   "metadata": {},
   "outputs": [],
   "source": [
    "import matplotlib.pyplot as plt"
   ]
  },
  {
   "cell_type": "code",
   "execution_count": 8,
   "metadata": {},
   "outputs": [],
   "source": [
    "train_csv_file=pd.read_csv(\"train.csv\")"
   ]
  },
  {
   "cell_type": "code",
   "execution_count": 9,
   "metadata": {},
   "outputs": [],
   "source": [
    "#print(train_csv_file)"
   ]
  },
  {
   "cell_type": "code",
   "execution_count": 10,
   "metadata": {},
   "outputs": [],
   "source": [
    "test_csv_file=pd.read_csv(\"test.csv\")"
   ]
  },
  {
   "cell_type": "code",
   "execution_count": 11,
   "metadata": {},
   "outputs": [],
   "source": [
    "#print(test_csv_file)"
   ]
  },
  {
   "cell_type": "code",
   "execution_count": 12,
   "metadata": {},
   "outputs": [],
   "source": [
    "train_data=train_csv_file.values"
   ]
  },
  {
   "cell_type": "code",
   "execution_count": 13,
   "metadata": {},
   "outputs": [
    {
     "name": "stdout",
     "output_type": "stream",
     "text": [
      "<class 'numpy.ndarray'>\n"
     ]
    }
   ],
   "source": [
    "print(type(train_data))"
   ]
  },
  {
   "cell_type": "code",
   "execution_count": 14,
   "metadata": {},
   "outputs": [
    {
     "name": "stdout",
     "output_type": "stream",
     "text": [
      "(304, 2)\n"
     ]
    }
   ],
   "source": [
    "print(train_data.shape)"
   ]
  },
  {
   "cell_type": "code",
   "execution_count": 15,
   "metadata": {},
   "outputs": [
    {
     "name": "stdout",
     "output_type": "stream",
     "text": [
      "['444.jpg' 'Bulbasaur']\n"
     ]
    }
   ],
   "source": [
    "print(train_data[-156])"
   ]
  },
  {
   "cell_type": "code",
   "execution_count": 16,
   "metadata": {},
   "outputs": [],
   "source": [
    "# Making dictionary of train file so that which file is of which class can be determined easily\n",
    "train_dict={}\n",
    "for file in train_data:\n",
    "    #print(file[1])\n",
    "    train_dict[file[0]]=file[1]"
   ]
  },
  {
   "cell_type": "code",
   "execution_count": 17,
   "metadata": {},
   "outputs": [
    {
     "name": "stdout",
     "output_type": "stream",
     "text": [
      "Pikachu\n"
     ]
    }
   ],
   "source": [
    "#for key,value in train_dict.items():\n",
    "    #print(key, value)\n",
    "print(train_dict[\"296.jpg\"])"
   ]
  },
  {
   "cell_type": "code",
   "execution_count": 18,
   "metadata": {},
   "outputs": [
    {
     "name": "stderr",
     "output_type": "stream",
     "text": [
      "/home/manish/anaconda3/lib/python3.7/site-packages/PIL/Image.py:968: UserWarning: Palette images with Transparency   expressed in bytes should be converted to RGBA images\n",
      "  ' expressed in bytes should be converted ' +\n"
     ]
    }
   ],
   "source": [
    "#labels_dict = {\"Pikachu\":0,\"Charmander\":1,\"Bulbasaur\":2}\n",
    "image_data = []\n",
    "labels = []\n",
    "labels_dict = {\"Pikachu\":0,\"Charmander\":1,\"Bulbasaur\":2}\n",
    "for img_path in p.glob(\"*.jpg\"):\n",
    "        label = str(img_path).split(\"/\")[-1]\n",
    "        #print(img_path)\n",
    "        #reduce target_size to 32*2 so that we have lesser no of features\n",
    "        img = image.load_img(img_path,target_size=(32,32))\n",
    "        # image into array format\n",
    "        img_array = image.img_to_array(img)\n",
    "        image_data.append(img_array)\n",
    "        labels.append(labels_dict[train_dict[label]])      "
   ]
  },
  {
   "cell_type": "code",
   "execution_count": 19,
   "metadata": {},
   "outputs": [
    {
     "name": "stdout",
     "output_type": "stream",
     "text": [
      "304\n",
      "304\n",
      "[1, 2, 1, 0, 0, 1, 1, 0, 1, 1, 0, 2, 1, 1, 2, 1, 2, 0, 0, 1, 0, 0, 0, 1, 2, 0, 1, 2, 2, 2, 1, 1, 2, 2, 2, 2, 1, 1, 2, 1, 0, 1, 0, 2, 1, 1, 2, 2, 0, 0, 1, 0, 0, 0, 1, 0, 1, 2, 2, 2, 0, 1, 2, 1, 1, 0, 1, 0, 2, 2, 0, 0, 0, 1, 2, 2, 1, 2, 2, 0, 2, 1, 2, 2, 0, 1, 1, 1, 2, 1, 2, 0, 2, 1, 2, 1, 2, 0, 2, 0, 2, 2, 0, 0, 1, 0, 1, 0, 1, 1, 2, 1, 0, 1, 0, 2, 1, 1, 1, 2, 2, 1, 2, 0, 1, 2, 0, 0, 2, 1, 0, 2, 1, 1, 0, 1, 1, 2, 0, 0, 1, 2, 0, 2, 0, 1, 0, 2, 0, 1, 1, 0, 1, 1, 2, 2, 2, 1, 2, 0, 0, 2, 2, 0, 1, 0, 0, 0, 1, 0, 0, 0, 0, 1, 0, 0, 2, 0, 2, 1, 1, 0, 1, 2, 2, 1, 1, 1, 1, 2, 2, 1, 2, 0, 2, 2, 1, 0, 0, 1, 1, 2, 0, 1, 2, 1, 0, 0, 2, 0, 2, 1, 1, 1, 0, 1, 2, 2, 1, 0, 0, 2, 0, 0, 1, 2, 0, 1, 1, 0, 0, 1, 0, 0, 2, 2, 0, 2, 0, 2, 2, 2, 1, 2, 0, 2, 2, 1, 1, 0, 0, 2, 2, 1, 0, 1, 0, 2, 1, 2, 2, 2, 2, 1, 1, 0, 2, 1, 2, 1, 2, 1, 1, 0, 0, 0, 0, 0, 1, 0, 2, 2, 2, 2, 2, 0, 0, 0, 0, 0, 1, 0, 1, 2, 0, 0, 2, 1, 1, 0, 2, 1, 2, 2]\n"
     ]
    }
   ],
   "source": [
    "print(len(image_data))\n",
    "print(len(labels))\n",
    "print(labels)"
   ]
  },
  {
   "cell_type": "code",
   "execution_count": 20,
   "metadata": {},
   "outputs": [],
   "source": [
    "#print(image_data[0])"
   ]
  },
  {
   "cell_type": "code",
   "execution_count": 21,
   "metadata": {},
   "outputs": [
    {
     "name": "stdout",
     "output_type": "stream",
     "text": [
      "(304, 32, 32, 3) (304,)\n"
     ]
    }
   ],
   "source": [
    "# Convert this into numpy array\n",
    "image_data = np.array(image_data,dtype='float32')/255.0\n",
    "labels = np.array(labels)\n",
    "\n",
    "print(image_data.shape,labels.shape)"
   ]
  },
  {
   "cell_type": "code",
   "execution_count": 22,
   "metadata": {},
   "outputs": [
    {
     "name": "stdout",
     "output_type": "stream",
     "text": [
      "[[[0.47058824 0.7607843  0.9529412 ]\n",
      "  [0.47058824 0.7607843  0.9529412 ]\n",
      "  [0.47058824 0.7607843  0.9529412 ]\n",
      "  ...\n",
      "  [0.47058824 0.7607843  0.9529412 ]\n",
      "  [0.47058824 0.7607843  0.9529412 ]\n",
      "  [0.47058824 0.7607843  0.9529412 ]]\n",
      "\n",
      " [[0.47058824 0.7607843  0.9529412 ]\n",
      "  [0.47058824 0.7607843  0.9529412 ]\n",
      "  [0.47058824 0.7607843  0.9529412 ]\n",
      "  ...\n",
      "  [0.47058824 0.7607843  0.9529412 ]\n",
      "  [0.47058824 0.7607843  0.9529412 ]\n",
      "  [0.47058824 0.7607843  0.9529412 ]]\n",
      "\n",
      " [[0.47058824 0.7607843  0.9529412 ]\n",
      "  [0.47058824 0.7607843  0.9529412 ]\n",
      "  [0.47058824 0.7607843  0.9529412 ]\n",
      "  ...\n",
      "  [0.47058824 0.7607843  0.9529412 ]\n",
      "  [0.47058824 0.7607843  0.9529412 ]\n",
      "  [0.47058824 0.7607843  0.9529412 ]]\n",
      "\n",
      " ...\n",
      "\n",
      " [[0.47058824 0.7607843  0.9529412 ]\n",
      "  [0.47058824 0.7607843  0.9529412 ]\n",
      "  [0.47058824 0.7607843  0.9529412 ]\n",
      "  ...\n",
      "  [0.47058824 0.7607843  0.9529412 ]\n",
      "  [0.47058824 0.7607843  0.9529412 ]\n",
      "  [0.47058824 0.7607843  0.9529412 ]]\n",
      "\n",
      " [[0.47058824 0.7607843  0.9529412 ]\n",
      "  [0.47058824 0.7607843  0.9529412 ]\n",
      "  [0.47058824 0.7607843  0.9529412 ]\n",
      "  ...\n",
      "  [0.47058824 0.7607843  0.9529412 ]\n",
      "  [0.47058824 0.7607843  0.9529412 ]\n",
      "  [0.47058824 0.7607843  0.9529412 ]]\n",
      "\n",
      " [[0.47058824 0.7607843  0.9529412 ]\n",
      "  [0.47058824 0.7607843  0.9529412 ]\n",
      "  [0.47058824 0.7607843  0.9529412 ]\n",
      "  ...\n",
      "  [0.47058824 0.7607843  0.9529412 ]\n",
      "  [0.47058824 0.7607843  0.9529412 ]\n",
      "  [0.47058824 0.7607843  0.9529412 ]]]\n"
     ]
    }
   ],
   "source": [
    "print(image_data[0])"
   ]
  },
  {
   "cell_type": "code",
   "execution_count": 23,
   "metadata": {},
   "outputs": [],
   "source": [
    "import random\n",
    "# combining the image and labels so that shuffling is consistent\n",
    "combined = list(zip(image_data,labels))\n",
    "random.shuffle(combined)\n",
    "\n",
    "#Unzip\n",
    "# * is used for unzipping something which is already zipped\n",
    "image_data[:],labels[:] = zip(*combined)"
   ]
  },
  {
   "cell_type": "code",
   "execution_count": 24,
   "metadata": {},
   "outputs": [
    {
     "data": {
      "image/png": "[encoded data removed]",
      "text/plain": [
       "<Figure size 432x288 with 1 Axes>"
      ]
     },
     "metadata": {
      "needs_background": "light"
     },
     "output_type": "display_data"
    },
    {
     "data": {
      "image/png": "[encoded data removed]",
      "text/plain": [
       "<Figure size 432x288 with 1 Axes>"
      ]
     },
     "metadata": {
      "needs_background": "light"
     },
     "output_type": "display_data"
    },
    {
     "data": {
      "image/png": "[encoded data removed]",
      "text/plain": [
       "<Figure size 432x288 with 1 Axes>"
      ]
     },
     "metadata": {
      "needs_background": "light"
     },
     "output_type": "display_data"
    },
    {
     "data": {
      "image/png": "[encoded data removed]",
      "text/plain": [
       "<Figure size 432x288 with 1 Axes>"
      ]
     },
     "metadata": {
      "needs_background": "light"
     },
     "output_type": "display_data"
    },
    {
     "data": {
      "image/png": "[encoded data removed]",
      "text/plain": [
       "<Figure size 432x288 with 1 Axes>"
      ]
     },
     "metadata": {
      "needs_background": "light"
     },
     "output_type": "display_data"
    },
    {
     "data": {
      "image/png": "[encoded data removed]",
      "text/plain": [
       "<Figure size 432x288 with 1 Axes>"
      ]
     },
     "metadata": {
      "needs_background": "light"
     },
     "output_type": "display_data"
    },
    {
     "data": {
      "image/png": "[encoded data removed]",
      "text/plain": [
       "<Figure size 432x288 with 1 Axes>"
      ]
     },
     "metadata": {
      "needs_background": "light"
     },
     "output_type": "display_data"
    },
    {
     "data": {
      "image/png": "[encoded data removed]",
      "text/plain": [
       "<Figure size 432x288 with 1 Axes>"
      ]
     },
     "metadata": {
      "needs_background": "light"
     },
     "output_type": "display_data"
    },
    {
     "data": {
      "image/png": "[encoded data removed]",
      "text/plain": [
       "<Figure size 432x288 with 1 Axes>"
      ]
     },
     "metadata": {
      "needs_background": "light"
     },
     "output_type": "display_data"
    },
    {
     "data": {
      "image/png": "[encoded data removed]",
      "text/plain": [
       "<Figure size 432x288 with 1 Axes>"
      ]
     },
     "metadata": {
      "needs_background": "light"
     },
     "output_type": "display_data"
    }
   ],
   "source": [
    "def drawImg(img):\n",
    "    plt.imshow(img)\n",
    "    plt.axis(\"off\")\n",
    "    plt.show()    \n",
    "    return \n",
    "\n",
    "for i in range(10):\n",
    "    drawImg(image_data[i])"
   ]
  },
  {
   "cell_type": "code",
   "execution_count": 25,
   "metadata": {},
   "outputs": [],
   "source": [
    "# Same Code which we written earlier\n",
    "class SVM:\n",
    "    \"\"\"SVM Class, Author:Manoj Kumar Verma\"\"\"\n",
    "    def __init__(self,C=1.0):\n",
    "        self.C = C\n",
    "        self.W = 0\n",
    "        self.b = 0\n",
    "        \n",
    "    def hingeLoss(self,W,b,X,Y):\n",
    "        loss  = 0.0\n",
    "        \n",
    "        loss += .5*np.dot(W,W.T)\n",
    "        \n",
    "        m = X.shape[0]\n",
    "        \n",
    "        for i in range(m):\n",
    "            ti = Y[i]*(np.dot(W,X[i].T)+b)\n",
    "            loss += self.C *max(0,(1-ti))\n",
    "            \n",
    "        return loss[0][0]\n",
    "    \n",
    "    def fit(self,X,Y,batch_size=50,learning_rate=0.00001,maxItr=1000):\n",
    "        \n",
    "        no_of_features = X.shape[1]\n",
    "        no_of_samples = X.shape[0]\n",
    "        \n",
    "        n = learning_rate\n",
    "        c = self.C\n",
    "        \n",
    "        #Init the model parameters\n",
    "        W = np.zeros((1,no_of_features))\n",
    "        bias = 0\n",
    "        \n",
    "        #Initial Loss\n",
    "        \n",
    "        #Training from here...\n",
    "        # Weight and Bias update rule that we discussed!\n",
    "        losses = []\n",
    "        \n",
    "        for i in range(maxItr):\n",
    "            #Training Loop\n",
    "            \n",
    "            l = self.hingeLoss(W,bias,X,Y)\n",
    "            losses.append(l)\n",
    "            ids = np.arange(no_of_samples)\n",
    "            np.random.shuffle(ids)\n",
    "            \n",
    "            #Batch Gradient Descent(Paper) with random shuffling\n",
    "            for batch_start in range(0,no_of_samples,batch_size):\n",
    "                #Assume 0 gradient for the batch\n",
    "                gradw = 0\n",
    "                gradb = 0\n",
    "                \n",
    "                #Iterate over all examples in the mini batch\n",
    "                for j in range(batch_start,batch_start+batch_size):\n",
    "                    if j<no_of_samples:\n",
    "                        i = ids[j]\n",
    "                        ti =  Y[i]*(np.dot(W,X[i].T)+bias)\n",
    "                        \n",
    "                        if ti>1:\n",
    "                            gradw += 0\n",
    "                            gradb += 0\n",
    "                        else:\n",
    "                            gradw += c*Y[i]*X[i]\n",
    "                            gradb += c*Y[i]\n",
    "                            \n",
    "                #Gradient for the batch is ready! Update W,B\n",
    "                W = W - n*W + n*gradw\n",
    "                bias = bias + n*gradb\n",
    "                \n",
    "        \n",
    "        self.W = W\n",
    "        self.b = bias\n",
    "        return W,bias,losses"
   ]
  },
  {
   "cell_type": "code",
   "execution_count": 26,
   "metadata": {},
   "outputs": [
    {
     "name": "stdout",
     "output_type": "stream",
     "text": [
      "(304, 3072)\n",
      "(304,)\n"
     ]
    }
   ],
   "source": [
    "M = image_data.shape[0] \n",
    "# flatten every image\n",
    "image_data = image_data.reshape(M,-1)\n",
    "print(image_data.shape)\n",
    "print(labels.shape)"
   ]
  },
  {
   "cell_type": "code",
   "execution_count": 27,
   "metadata": {},
   "outputs": [
    {
     "name": "stdout",
     "output_type": "stream",
     "text": [
      "3\n"
     ]
    }
   ],
   "source": [
    "CLASSES = len(np.unique(labels))\n",
    "print(CLASSES)"
   ]
  },
  {
   "cell_type": "code",
   "execution_count": 28,
   "metadata": {},
   "outputs": [],
   "source": [
    "def classWiseData(x,y):\n",
    "    data = {}\n",
    "    # creating empty list for key 0,1, and 3\n",
    "    for i in range(CLASSES):\n",
    "        data[i] = []\n",
    "        \n",
    "    for i in range(x.shape[0]):\n",
    "        data[y[i]].append(x[i])\n",
    "    # appending the image according to the key 0,1,2\n",
    "    for k in data.keys():\n",
    "        # keys are 0,1,2\n",
    "        # converting every list corresponding to the keys to the numpy array\n",
    "        data[k] = np.array(data[k])\n",
    "        \n",
    "    return data"
   ]
  },
  {
   "cell_type": "code",
   "execution_count": 29,
   "metadata": {},
   "outputs": [],
   "source": [
    "data = classWiseData(image_data,labels)"
   ]
  },
  {
   "cell_type": "code",
   "execution_count": 30,
   "metadata": {},
   "outputs": [
    {
     "name": "stdout",
     "output_type": "stream",
     "text": [
      "(101, 3072)\n"
     ]
    }
   ],
   "source": [
    "print(data[2].shape) # images with keys 0"
   ]
  },
  {
   "cell_type": "code",
   "execution_count": 31,
   "metadata": {},
   "outputs": [],
   "source": [
    "# combinint data into matrix bz our SVM methods need data in matrix form\n",
    "# d1 and d2 are two classes bz we will pass two class for ex dog and cat or dog and human and all other\n",
    "# one-one possibilities\n",
    "def getDataPairForSVM(d1,d2):\n",
    "    \"\"\"Combines Data of two classes into a signle matrix\"\"\"\n",
    "    \n",
    "    l1,l2 = d1.shape[0],d2.shape[0]\n",
    "    \n",
    "    samples = l1+l2\n",
    "    features = d1.shape[1]\n",
    "    \n",
    "    data_pair = np.zeros((samples,features))\n",
    "    data_labels = np.zeros((samples,))\n",
    "    \n",
    "    data_pair[:l1,:] = d1\n",
    "    data_pair[l1:,:] = d2\n",
    "    \n",
    "    data_labels[:l1] = -1\n",
    "    data_labels[l1:] = +1\n",
    "    \n",
    "    return data_pair,data_labels"
   ]
  },
  {
   "cell_type": "code",
   "execution_count": 193,
   "metadata": {},
   "outputs": [
    {
     "data": {
      "text/plain": [
       "[<matplotlib.lines.Line2D at 0x7f277a275a90>]"
      ]
     },
     "execution_count": 193,
     "metadata": {},
     "output_type": "execute_result"
    },
    {
     "data": {
      "image/png": "[encoded data removed]",
      "text/plain": [
       "<Figure size 432x288 with 1 Axes>"
      ]
     },
     "metadata": {
      "needs_background": "light"
     },
     "output_type": "display_data"
    }
   ],
   "source": [
    "# SVM class object\n",
    "mySVM = SVM()\n",
    "# Applying SVM for first two classes Remember data is Dictionary  \n",
    "xp,yp = getDataPairForSVM(data[0],data[1])\n",
    "# If we get diverging losses then learning rate must be very high make it less\n",
    "w,b,loss= mySVM.fit(xp,yp,learning_rate=0.000001,maxItr=10000)\n",
    "#print(loss)\n",
    "plt.plot(loss)"
   ]
  },
  {
   "cell_type": "code",
   "execution_count": 194,
   "metadata": {},
   "outputs": [],
   "source": [
    "def trainSVMs(x,y):\n",
    "    # We will store learnt parameter/(weights and biases) after each classifiers \n",
    "    svm_classifiers = {}\n",
    "    # total possibilities NC2 total 6 classifiers\n",
    "    for i in range(CLASSES):\n",
    "        svm_classifiers[i] = {}\n",
    "        for j in range(i+1,CLASSES):\n",
    "            xpair,ypair = getDataPairForSVM(data[i],data[j])\n",
    "            wts,b,loss = mySVM.fit(xpair,ypair,learning_rate=0.00001,maxItr=1000)\n",
    "            # storing learnt model parameter\n",
    "            svm_classifiers[i][j] = (wts,b)\n",
    "            \n",
    "            plt.plot(loss)\n",
    "            plt.show()\n",
    "            \n",
    "    \n",
    "    return svm_classifiers"
   ]
  },
  {
   "cell_type": "code",
   "execution_count": 195,
   "metadata": {},
   "outputs": [
    {
     "data": {
      "image/png": "[encoded data removed]",
      "text/plain": [
       "<Figure size 432x288 with 1 Axes>"
      ]
     },
     "metadata": {
      "needs_background": "light"
     },
     "output_type": "display_data"
    },
    {
     "data": {
      "image/png": "[encoded data removed]",
      "text/plain": [
       "<Figure size 432x288 with 1 Axes>"
      ]
     },
     "metadata": {
      "needs_background": "light"
     },
     "output_type": "display_data"
    },
    {
     "data": {
      "image/png": "[encoded data removed]",
      "text/plain": [
       "<Figure size 432x288 with 1 Axes>"
      ]
     },
     "metadata": {
      "needs_background": "light"
     },
     "output_type": "display_data"
    }
   ],
   "source": [
    "svm_classifiers = trainSVMs(image_data,labels)"
   ]
  },
  {
   "cell_type": "code",
   "execution_count": 196,
   "metadata": {},
   "outputs": [
    {
     "name": "stdout",
     "output_type": "stream",
     "text": [
      "(1, 3072)\n",
      "[[-0.01339611 -0.00706729 -0.01221538 ... -0.00312008  0.00346216\n",
      "  -0.0043867 ]]\n"
     ]
    }
   ],
   "source": [
    "#Parameters for Pikachu and Charmander\n",
    "pikachu_charmander = svm_classifiers[0][1]\n",
    "print(pikachu_charmander[0].shape)\n",
    "print(pikachu_charmander[0])# Parameters"
   ]
  },
  {
   "cell_type": "markdown",
   "metadata": {},
   "source": [
    "## Prediction"
   ]
  },
  {
   "cell_type": "code",
   "execution_count": 197,
   "metadata": {},
   "outputs": [],
   "source": [
    "def binaryPredict(x,w,b):\n",
    "    z  = np.dot(x,w.T) + b\n",
    "    if z>=0:\n",
    "        return 1\n",
    "    else:\n",
    "        return -1"
   ]
  },
  {
   "cell_type": "code",
   "execution_count": 198,
   "metadata": {},
   "outputs": [],
   "source": [
    "#Prediction Method\n",
    "def predict(x):\n",
    "    # To store prediction from each classifier\n",
    "    # The count of max 0,1,2 will be the final prediction for that query image(here x)\n",
    "    count = np.zeros((CLASSES,))\n",
    "    for i in range(CLASSES):\n",
    "        for j in range(i+1,CLASSES):\n",
    "            w,b = svm_classifiers[i][j]\n",
    "            #Take a majority prediction from each of the classifier\n",
    "            z = binaryPredict(x,w,b)\n",
    "            if(z==1):\n",
    "                count[j] += 1\n",
    "            else:\n",
    "                count[i] += 1\n",
    "    \n",
    "    final_prediction = np.argmax(count)\n",
    "    #print(count)\n",
    "    return final_prediction"
   ]
  },
  {
   "cell_type": "code",
   "execution_count": 199,
   "metadata": {},
   "outputs": [
    {
     "name": "stdout",
     "output_type": "stream",
     "text": [
      "0\n",
      "0\n"
     ]
    }
   ],
   "source": [
    "print(predict(image_data[3]))\n",
    "print(labels[3])"
   ]
  },
  {
   "cell_type": "code",
   "execution_count": 200,
   "metadata": {},
   "outputs": [],
   "source": [
    "def accuracy(x,y):\n",
    "    count = 0\n",
    "    for i in range(x.shape[0]):\n",
    "        prediction = predict(x[i])\n",
    "        if(prediction==y[i]):\n",
    "            count += 1\n",
    "            \n",
    "    return count/x.shape[0]"
   ]
  },
  {
   "cell_type": "code",
   "execution_count": 201,
   "metadata": {},
   "outputs": [
    {
     "name": "stdout",
     "output_type": "stream",
     "text": [
      "0.6973684210526315\n"
     ]
    }
   ],
   "source": [
    "print(accuracy(image_data,labels))"
   ]
  },
  {
   "cell_type": "markdown",
   "metadata": {},
   "source": [
    "### Test Data Numpy array Generation"
   ]
  },
  {
   "cell_type": "code",
   "execution_count": 54,
   "metadata": {},
   "outputs": [],
   "source": [
    "test_data=test_csv_file.values"
   ]
  },
  {
   "cell_type": "code",
   "execution_count": 57,
   "metadata": {},
   "outputs": [
    {
     "name": "stdout",
     "output_type": "stream",
     "text": [
      "(123, 1)\n"
     ]
    }
   ],
   "source": [
    "print(test_data.shape)"
   ]
  },
  {
   "cell_type": "code",
   "execution_count": 98,
   "metadata": {},
   "outputs": [],
   "source": [
    "#print(test_data)"
   ]
  },
  {
   "cell_type": "code",
   "execution_count": 100,
   "metadata": {},
   "outputs": [
    {
     "name": "stdout",
     "output_type": "stream",
     "text": [
      "<class 'pathlib.PosixPath'>\n"
     ]
    }
   ],
   "source": [
    "test_image=Path(\"/home/manish/Images_test\")\n",
    "print(type(test_image))"
   ]
  },
  {
   "cell_type": "code",
   "execution_count": 109,
   "metadata": {},
   "outputs": [],
   "source": [
    "image_test_data ={}\n",
    "for img_path in test_image.glob(\"*.jpg\"):\n",
    "        label = str(img_path).split(\"/\")[-1]\n",
    "        #print(label)\n",
    "        #reduce target_size to 32*2 so that we have lesser no of features\n",
    "        img = image.load_img(img_path,target_size=(32,32))\n",
    "        # image into array format\n",
    "        img_array = image.img_to_array(img)\n",
    "        image_test_data[label]=np.array(img_array,dtype='float32')/255.0     "
   ]
  },
  {
   "cell_type": "code",
   "execution_count": 101,
   "metadata": {},
   "outputs": [
    {
     "name": "stdout",
     "output_type": "stream",
     "text": [
      "123\n"
     ]
    }
   ],
   "source": [
    "print(len(image_test_data))"
   ]
  },
  {
   "cell_type": "code",
   "execution_count": 110,
   "metadata": {},
   "outputs": [
    {
     "name": "stdout",
     "output_type": "stream",
     "text": [
      "(304, 3072)\n",
      "(304,)\n"
     ]
    }
   ],
   "source": [
    "M = image_data.shape[0] \n",
    "# flatten every image\n",
    "image_data = image_data.reshape(M,-1)\n",
    "print(image_data.shape)\n",
    "print(labels.shape)"
   ]
  },
  {
   "cell_type": "code",
   "execution_count": 106,
   "metadata": {},
   "outputs": [],
   "source": [
    "#print(image_test_data.keys())"
   ]
  },
  {
   "cell_type": "code",
   "execution_count": 111,
   "metadata": {},
   "outputs": [
    {
     "name": "stdout",
     "output_type": "stream",
     "text": [
      "123\n"
     ]
    }
   ],
   "source": [
    "for key in image_test_data.keys():\n",
    "    #flatten the data\n",
    "    image_test_data[key]=image_test_data[key].reshape(-1)\n",
    "print(len(image_test_data))"
   ]
  },
  {
   "cell_type": "code",
   "execution_count": 84,
   "metadata": {},
   "outputs": [],
   "source": [
    "#for i in image_test_data:\n",
    "    #print(image_test_data[i].shape)"
   ]
  },
  {
   "cell_type": "markdown",
   "metadata": {},
   "source": [
    "### Prediction for Test Case"
   ]
  },
  {
   "cell_type": "code",
   "execution_count": 85,
   "metadata": {},
   "outputs": [],
   "source": [
    "sample_submission=pd.read_csv(\"Sample_submission.csv\")"
   ]
  },
  {
   "cell_type": "code",
   "execution_count": 188,
   "metadata": {},
   "outputs": [
    {
     "name": "stdout",
     "output_type": "stream",
     "text": [
      "Index(['ImageId', 'NameOfPokemon'], dtype='object')\n"
     ]
    }
   ],
   "source": [
    "print(sample_submission.columns)"
   ]
  },
  {
   "cell_type": "code",
   "execution_count": 191,
   "metadata": {},
   "outputs": [],
   "source": [
    "#print(sample_submission)"
   ]
  },
  {
   "cell_type": "code",
   "execution_count": 113,
   "metadata": {},
   "outputs": [],
   "source": [
    "output_prediction={}\n",
    "for i in image_test_data:\n",
    "    pred=predict(image_test_data[i])\n",
    "    if pred==0:\n",
    "        output_prediction[i]=\"Pikachu\"\n",
    "    if pred==1:\n",
    "        output_prediction[i]=\"Charmander\"\n",
    "    if pred==2:\n",
    "        output_prediction[i]=\"Bulbasaur\""
   ]
  },
  {
   "cell_type": "code",
   "execution_count": 192,
   "metadata": {},
   "outputs": [],
   "source": [
    "#for i in output_prediction:\n",
    "    #print(i,output_prediction[i])"
   ]
  },
  {
   "cell_type": "markdown",
   "metadata": {},
   "source": [
    "### Arranging in Order  which sample submission demands"
   ]
  },
  {
   "cell_type": "code",
   "execution_count": 115,
   "metadata": {},
   "outputs": [],
   "source": [
    "ss=sample_submission.values"
   ]
  },
  {
   "cell_type": "code",
   "execution_count": 160,
   "metadata": {},
   "outputs": [],
   "source": [
    "files=[]\n",
    "lab=[]\n",
    "for i in range(ss.shape[0]):\n",
    "    #print(ss[i][0])\n",
    "    files.append(ss[i][0])\n",
    "    lab.append(output_prediction[ss[i][0]])"
   ]
  },
  {
   "cell_type": "code",
   "execution_count": 161,
   "metadata": {},
   "outputs": [
    {
     "name": "stdout",
     "output_type": "stream",
     "text": [
      "<class 'numpy.ndarray'>\n",
      "<class 'numpy.ndarray'>\n"
     ]
    }
   ],
   "source": [
    "files=np.array(files)\n",
    "lab=np.array(lab)\n",
    "print(type(files))\n",
    "print(type(lab))"
   ]
  },
  {
   "cell_type": "code",
   "execution_count": 181,
   "metadata": {},
   "outputs": [],
   "source": [
    "finalAns={}\n",
    "finalAns['ImageId']=files\n",
    "finalAns['NameOfPokemon']=lab"
   ]
  },
  {
   "cell_type": "code",
   "execution_count": 182,
   "metadata": {},
   "outputs": [
    {
     "name": "stdout",
     "output_type": "stream",
     "text": [
      "{'ImageId': array(['1106.jpg', '2236.jpg', '1131.jpg', '2221.jpg', '2011.jpg',\n",
      "       '2030.jpg', '2035.jpg', '1110.jpg', '1104.jpg', '2217.jpg',\n",
      "       '1111.jpg', '1100.jpg', '1112.jpg', '1138.jpg', '2238.jpg',\n",
      "       '2009.jpg', '2225.jpg', '2240.jpg', '2020.jpg', '2209.jpg',\n",
      "       '2029.jpg', '1114.jpg', '2201.jpg', '1118.jpg', '2025.jpg',\n",
      "       '2202.jpg', '1117.jpg', '1119.jpg', '2000.jpg', '2007.jpg',\n",
      "       '2039.jpg', '2017.jpg', '2215.jpg', '1120.jpg', '2006.jpg',\n",
      "       '1116.jpg', '1128.jpg', '1125.jpg', '2203.jpg', '1133.jpg',\n",
      "       '1137.jpg', '2220.jpg', '2012.jpg', '2224.jpg', '2206.jpg',\n",
      "       '1122.jpg', '2223.jpg', '1102.jpg', '2234.jpg', '2216.jpg',\n",
      "       '2016.jpg', '2227.jpg', '2013.jpg', '1113.jpg', '2204.jpg',\n",
      "       '1101.jpg', '2208.jpg', '2024.jpg', '2031.jpg', '2222.jpg',\n",
      "       '2211.jpg', '2033.jpg', '2213.jpg', '2231.jpg', '2001.jpg',\n",
      "       '2040.jpg', '1127.jpg', '2023.jpg', '2015.jpg', '1121.jpg',\n",
      "       '2232.jpg', '1139.jpg', '1103.jpg', '2018.jpg', '2233.jpg',\n",
      "       '2212.jpg', '2210.jpg', '2228.jpg', '2026.jpg', '1132.jpg',\n",
      "       '2003.jpg', '1129.jpg', '2214.jpg', '1123.jpg', '2004.jpg',\n",
      "       '1136.jpg', '1140.jpg', '2226.jpg', '2230.jpg', '1135.jpg',\n",
      "       '1105.jpg', '2237.jpg', '1109.jpg', '2022.jpg', '2005.jpg',\n",
      "       '2218.jpg', '2036.jpg', '1115.jpg', '2032.jpg', '2200.jpg',\n",
      "       '1134.jpg', '1130.jpg', '1107.jpg', '2034.jpg', '2205.jpg',\n",
      "       '2008.jpg', '2027.jpg', '2028.jpg', '2239.jpg', '1108.jpg',\n",
      "       '2010.jpg', '2229.jpg', '2219.jpg', '2019.jpg', '2207.jpg',\n",
      "       '2002.jpg', '2037.jpg', '2038.jpg', '1124.jpg', '2014.jpg',\n",
      "       '2235.jpg', '1126.jpg', '2021.jpg'], dtype='<U8'), 'NameOfPokemon': array(['Bulbasaur', 'Pikachu', 'Bulbasaur', 'Charmander', 'Pikachu',\n",
      "       'Pikachu', 'Pikachu', 'Bulbasaur', 'Bulbasaur', 'Charmander',\n",
      "       'Bulbasaur', 'Bulbasaur', 'Bulbasaur', 'Bulbasaur', 'Charmander',\n",
      "       'Bulbasaur', 'Charmander', 'Bulbasaur', 'Pikachu', 'Charmander',\n",
      "       'Pikachu', 'Bulbasaur', 'Charmander', 'Bulbasaur', 'Pikachu',\n",
      "       'Charmander', 'Bulbasaur', 'Pikachu', 'Pikachu', 'Pikachu',\n",
      "       'Pikachu', 'Pikachu', 'Charmander', 'Bulbasaur', 'Pikachu',\n",
      "       'Bulbasaur', 'Bulbasaur', 'Bulbasaur', 'Charmander', 'Bulbasaur',\n",
      "       'Bulbasaur', 'Charmander', 'Pikachu', 'Charmander', 'Charmander',\n",
      "       'Bulbasaur', 'Charmander', 'Bulbasaur', 'Charmander', 'Charmander',\n",
      "       'Pikachu', 'Charmander', 'Pikachu', 'Bulbasaur', 'Charmander',\n",
      "       'Bulbasaur', 'Pikachu', 'Pikachu', 'Pikachu', 'Charmander',\n",
      "       'Charmander', 'Charmander', 'Charmander', 'Bulbasaur', 'Pikachu',\n",
      "       'Pikachu', 'Charmander', 'Pikachu', 'Pikachu', 'Bulbasaur',\n",
      "       'Charmander', 'Bulbasaur', 'Bulbasaur', 'Charmander', 'Charmander',\n",
      "       'Charmander', 'Charmander', 'Charmander', 'Charmander',\n",
      "       'Bulbasaur', 'Pikachu', 'Bulbasaur', 'Charmander', 'Bulbasaur',\n",
      "       'Pikachu', 'Bulbasaur', 'Bulbasaur', 'Charmander', 'Charmander',\n",
      "       'Charmander', 'Bulbasaur', 'Bulbasaur', 'Bulbasaur', 'Pikachu',\n",
      "       'Pikachu', 'Charmander', 'Pikachu', 'Bulbasaur', 'Pikachu',\n",
      "       'Charmander', 'Bulbasaur', 'Charmander', 'Charmander', 'Pikachu',\n",
      "       'Charmander', 'Pikachu', 'Pikachu', 'Pikachu', 'Charmander',\n",
      "       'Bulbasaur', 'Pikachu', 'Pikachu', 'Charmander', 'Pikachu',\n",
      "       'Charmander', 'Charmander', 'Pikachu', 'Pikachu', 'Bulbasaur',\n",
      "       'Pikachu', 'Charmander', 'Bulbasaur', 'Pikachu'], dtype='<U10')}\n"
     ]
    }
   ],
   "source": [
    "print(finalAns)"
   ]
  },
  {
   "cell_type": "code",
   "execution_count": 183,
   "metadata": {},
   "outputs": [],
   "source": [
    "df=pd.DataFrame(data=finalAns)\n",
    "df.to_csv(\"answerFile.csv\",index=False)"
   ]
  },
  {
   "cell_type": "code",
   "execution_count": 184,
   "metadata": {},
   "outputs": [],
   "source": [
    "op=pd.read_csv(\"answerFile.csv\")"
   ]
  },
  {
   "cell_type": "code",
   "execution_count": 187,
   "metadata": {},
   "outputs": [
    {
     "name": "stdout",
     "output_type": "stream",
     "text": [
      "Index(['ImageId', 'NameOfPokemon'], dtype='object')\n"
     ]
    }
   ],
   "source": [
    "print(op.columns)"
   ]
  },
  {
   "cell_type": "code",
   "execution_count": 189,
   "metadata": {},
   "outputs": [
    {
     "name": "stdout",
     "output_type": "stream",
     "text": [
      "      ImageId NameOfPokemon\n",
      "0    1106.jpg     Bulbasaur\n",
      "1    2236.jpg       Pikachu\n",
      "2    1131.jpg     Bulbasaur\n",
      "3    2221.jpg    Charmander\n",
      "4    2011.jpg       Pikachu\n",
      "5    2030.jpg       Pikachu\n",
      "6    2035.jpg       Pikachu\n",
      "7    1110.jpg     Bulbasaur\n",
      "8    1104.jpg     Bulbasaur\n",
      "9    2217.jpg    Charmander\n",
      "10   1111.jpg     Bulbasaur\n",
      "11   1100.jpg     Bulbasaur\n",
      "12   1112.jpg     Bulbasaur\n",
      "13   1138.jpg     Bulbasaur\n",
      "14   2238.jpg    Charmander\n",
      "15   2009.jpg     Bulbasaur\n",
      "16   2225.jpg    Charmander\n",
      "17   2240.jpg     Bulbasaur\n",
      "18   2020.jpg       Pikachu\n",
      "19   2209.jpg    Charmander\n",
      "20   2029.jpg       Pikachu\n",
      "21   1114.jpg     Bulbasaur\n",
      "22   2201.jpg    Charmander\n",
      "23   1118.jpg     Bulbasaur\n",
      "24   2025.jpg       Pikachu\n",
      "25   2202.jpg    Charmander\n",
      "26   1117.jpg     Bulbasaur\n",
      "27   1119.jpg       Pikachu\n",
      "28   2000.jpg       Pikachu\n",
      "29   2007.jpg       Pikachu\n",
      "..        ...           ...\n",
      "93   2022.jpg       Pikachu\n",
      "94   2005.jpg       Pikachu\n",
      "95   2218.jpg    Charmander\n",
      "96   2036.jpg       Pikachu\n",
      "97   1115.jpg     Bulbasaur\n",
      "98   2032.jpg       Pikachu\n",
      "99   2200.jpg    Charmander\n",
      "100  1134.jpg     Bulbasaur\n",
      "101  1130.jpg    Charmander\n",
      "102  1107.jpg    Charmander\n",
      "103  2034.jpg       Pikachu\n",
      "104  2205.jpg    Charmander\n",
      "105  2008.jpg       Pikachu\n",
      "106  2027.jpg       Pikachu\n",
      "107  2028.jpg       Pikachu\n",
      "108  2239.jpg    Charmander\n",
      "109  1108.jpg     Bulbasaur\n",
      "110  2010.jpg       Pikachu\n",
      "111  2229.jpg       Pikachu\n",
      "112  2219.jpg    Charmander\n",
      "113  2019.jpg       Pikachu\n",
      "114  2207.jpg    Charmander\n",
      "115  2002.jpg    Charmander\n",
      "116  2037.jpg       Pikachu\n",
      "117  2038.jpg       Pikachu\n",
      "118  1124.jpg     Bulbasaur\n",
      "119  2014.jpg       Pikachu\n",
      "120  2235.jpg    Charmander\n",
      "121  1126.jpg     Bulbasaur\n",
      "122  2021.jpg       Pikachu\n",
      "\n",
      "[123 rows x 2 columns]\n"
     ]
    }
   ],
   "source": [
    "print(op)"
   ]
  }
 ],
 "metadata": {
  "kernelspec": {
   "display_name": "Python 3",
   "language": "python",
   "name": "python3"
  },
  "language_info": {
   "codemirror_mode": {
    "name": "ipython",
    "version": 3
   },
   "file_extension": ".py",
   "mimetype": "text/x-python",
   "name": "python",
   "nbconvert_exporter": "python",
   "pygments_lexer": "ipython3",
   "version": "3.7.3"
  }
 },
 "nbformat": 4,
 "nbformat_minor": 2
}
